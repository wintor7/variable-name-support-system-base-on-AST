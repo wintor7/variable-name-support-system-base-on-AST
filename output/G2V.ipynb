{
 "cells": [
  {
   "attachments": {},
   "cell_type": "markdown",
   "metadata": {},
   "source": [
    "# graph2vecを利用して変数名の提案"
   ]
  },
  {
   "cell_type": "code",
   "execution_count": 772,
   "metadata": {},
   "outputs": [],
   "source": [
    "def sim_combine(sim_list):\n",
    "  result = {}\n",
    "  result_count ={}\n",
    "  for i in range(len(sim_list)):\n",
    "    try:\n",
    "      if sim_list[i][0] in result[sim_list[i][0]].keys(): #判断result里是否建立有simlist的key\n",
    "        continue\n",
    "    except KeyError:\n",
    "      result[sim_list[i][0]] = {}\n",
    "      result_count[sim_list[i][0]] = {}\n",
    "    temp = sim_list[i]\n",
    "    sum = 0\n",
    "    count = 0\n",
    "    if temp[1] not in result[temp[0]].keys():\n",
    "      for j in range(i,len(sim_list)):     \n",
    "        if temp[1] == sim_list[j][1] and temp[0] == sim_list[j][0]:\n",
    "          sum = sum + sim_list[j][2]\n",
    "          count += 1\n",
    "    else:\n",
    "      continue    \n",
    "    avg = sum/count\n",
    "    result[sim_list[i][0]].update({sim_list[i][1] : avg})\n",
    "    result_count[sim_list[i][0]].update({sim_list[i][1] : count})\n",
    "\n",
    "    \n",
    "  return result, result_count"
   ]
  },
  {
   "attachments": {},
   "cell_type": "markdown",
   "metadata": {},
   "source": [
    "ライブラリーと変数の宣言"
   ]
  },
  {
   "cell_type": "code",
   "execution_count": 773,
   "metadata": {},
   "outputs": [],
   "source": [
    "from Mygraph2vec import Graph2Vec\n",
    "import networkx as nx\n",
    "from ast_draw import CodeTransformer, counter\n",
    "import glob\n",
    "import ast\n",
    "import node_to_vec as n2v"
   ]
  },
  {
   "cell_type": "code",
   "execution_count": 774,
   "metadata": {},
   "outputs": [],
   "source": [
    "var, for_var, func_var, func_params, func_return = {}, {}, {}, {}, {}\n",
    "dict_func, var_counter = {},{}\n",
    "node_to_id = {}\n",
    "id_to_node = {}\n",
    "node_to_id, id_to_node = n2v.create_node_lib()      #create node corpus\n",
    "var_to_id, func_to_id = {},{}\n",
    "id_to_var, id_to_func = {},{}"
   ]
  },
  {
   "attachments": {},
   "cell_type": "markdown",
   "metadata": {},
   "source": [
    "テストファイルの入力"
   ]
  },
  {
   "cell_type": "code",
   "execution_count": 775,
   "metadata": {},
   "outputs": [
    {
     "data": {
      "text/plain": [
       "['/Users/wintor7/report7/test_file/e205760_search_words_sub_set.py',\n",
       " '/Users/wintor7/report7/test_file/e215701_search_words_intermediate_result.py',\n",
       " '/Users/wintor7/report7/test_file/e205715_search_words_searched.py',\n",
       " '/Users/wintor7/report7/test_file/e195760_search_words_search_word.py',\n",
       " '/Users/wintor7/report7/test_file/e195743_search_words_one_youso_list.py',\n",
       " '/Users/wintor7/report7/test_file/e215710_search_words_words_dict.py',\n",
       " '/Users/wintor7/report7/test_file/e205708_search_words_save_files.py',\n",
       " '/Users/wintor7/report7/test_file/e195735_search_words_result.py',\n",
       " '/Users/wintor7/report7/test_file/e215703_search_words_count.py',\n",
       " '/Users/wintor7/report7/test_file/e195730_search_words_file_list.py',\n",
       " '/Users/wintor7/report7/test_file/e195763_search_words_result_files.py',\n",
       " '/Users/wintor7/report7/test_file/e205728_search_words_items_.py',\n",
       " '/Users/wintor7/report7/test_file/e215716_search_words_count.py',\n",
       " '/Users/wintor7/report7/test_file/e205717_search_words_words.py',\n",
       " '/Users/wintor7/report7/test_file/e215706_search_words_kekka.py',\n",
       " '/Users/wintor7/report7/test_file/e185708_search_words_stored_file.py']"
      ]
     },
     "execution_count": 775,
     "metadata": {},
     "output_type": "execute_result"
    }
   ],
   "source": [
    "path = '/Users/wintor7/report7/test_file/'\n",
    "file = glob.glob(path + '*_search_words_*.py')\n",
    "func = 'search_words'\n",
    "file"
   ]
  },
  {
   "cell_type": "code",
   "execution_count": 776,
   "metadata": {},
   "outputs": [
    {
     "data": {
      "text/plain": [
       "'/Users/wintor7/report7/test_file/e205717_search_words_words.py'"
      ]
     },
     "execution_count": 776,
     "metadata": {},
     "output_type": "execute_result"
    }
   ],
   "source": [
    "file[-3]"
   ]
  },
  {
   "attachments": {},
   "cell_type": "markdown",
   "metadata": {},
   "source": [
    "ASTの抽出"
   ]
  },
  {
   "cell_type": "code",
   "execution_count": 777,
   "metadata": {},
   "outputs": [],
   "source": [
    "test_var = 'test_var1'\n",
    "with open(file[-3], 'r') as fh:\n",
    "  content = fh.read()"
   ]
  },
  {
   "cell_type": "code",
   "execution_count": 778,
   "metadata": {},
   "outputs": [
    {
     "data": {
      "text/plain": [
       "{'make_index': {'index': [17, 27, 28],\n",
       "  'sentence': [18, 21, 22, 24, 25],\n",
       "  'filenames': [19, 26],\n",
       "  'fh': [20, 21],\n",
       "  'names': [23, 26, 27]},\n",
       " 'search_words': {'test_var': [57, 59, 60, 61],\n",
       "  'index': [57, 59],\n",
       "  'test_var1': [57, 58]}}"
      ]
     },
     "execution_count": 778,
     "metadata": {},
     "output_type": "execute_result"
    }
   ],
   "source": [
    "r_node = ast.parse(content)\n",
    "\n",
    "transformer = CodeTransformer()\n",
    "r_node = transformer.visit(r_node)\n",
    "\n",
    "transformer.name_line\n",
    "\n"
   ]
  },
  {
   "cell_type": "code",
   "execution_count": 779,
   "metadata": {},
   "outputs": [
    {
     "data": {
      "text/plain": [
       "{'make_index': {'index': [<_ast.Assign at 0x1722da8b0>,\n",
       "   <_ast.Assign at 0x1695bfb20>,\n",
       "   <_ast.Return at 0x16958e0d0>],\n",
       "  'sentence': [<_ast.Assign at 0x1698037f0>,\n",
       "   <_ast.Expr at 0x177591af0>,\n",
       "   <_ast.For at 0x169907280>,\n",
       "   <_ast.For at 0x169921d30>,\n",
       "   <_ast.If at 0x1695bf1c0>],\n",
       "  'filenames': [<_ast.For at 0x1722d62e0>, <_ast.Expr at 0x1695bf4f0>],\n",
       "  'fh': [<_ast.With at 0x169588460>, <_ast.Expr at 0x177591af0>],\n",
       "  'names': [<_ast.Assign at 0x169921c70>,\n",
       "   <_ast.Expr at 0x1695bf4f0>,\n",
       "   <_ast.Assign at 0x1695bfb20>]},\n",
       " 'search_words': {'test_var': [<_ast.Assign at 0x169591520>,\n",
       "   <_ast.Assign at 0x169591ca0>,\n",
       "   <_ast.If at 0x169591730>,\n",
       "   <_ast.Return at 0x169591970>],\n",
       "  'index': [<_ast.Assign at 0x169591520>, <_ast.Assign at 0x169591ca0>],\n",
       "  'test_var1': [<_ast.Assign at 0x169591520>, <_ast.For at 0x169591280>]}}"
      ]
     },
     "execution_count": 779,
     "metadata": {},
     "output_type": "execute_result"
    }
   ],
   "source": [
    "dict_func = counter(dict_func, transformer.var_in_func)\n",
    "\n",
    "name_line = transformer.name_line\n",
    "node_list = {}\n",
    "\n",
    "for key in name_line.keys():\n",
    "  var_node = {}\n",
    "  for var, value in name_line[key].items():\n",
    "    for i in value:\n",
    "      transformer.track_line(r_node, i)\n",
    "      if var not in var_node.keys():\n",
    "        var_node[var] = [transformer.target_var]\n",
    "      elif transformer.target_var not in var_node[var]:\n",
    "        var_node[var].append(transformer.target_var)\n",
    "  node_list[key] = var_node\n",
    "node_list\n"
   ]
  },
  {
   "cell_type": "code",
   "execution_count": 780,
   "metadata": {},
   "outputs": [
    {
     "data": {
      "text/plain": [
       "{'make_index': {'index': [None, <_ast.For at 0x169907280>],\n",
       "  'sentence': [<_ast.For at 0x169907280>, <_ast.For at 0x1722d62e0>],\n",
       "  'filenames': [<_ast.For at 0x1722d62e0>, <_ast.For at 0x169907280>],\n",
       "  'fh': [<_ast.For at 0x1722d62e0>],\n",
       "  'names': [<_ast.For at 0x169907280>]},\n",
       " 'search_words': {'test_var': [<_ast.Try at 0x169591100>],\n",
       "  'index': [<_ast.Try at 0x169591100>],\n",
       "  'test_var1': [<_ast.Try at 0x169591100>]}}"
      ]
     },
     "execution_count": 780,
     "metadata": {},
     "output_type": "execute_result"
    }
   ],
   "source": [
    "loop_list = {}        #\n",
    "for key in name_line.keys():\n",
    "  loop_temp_list = {}\n",
    "  for var, value in name_line[key].items():\n",
    "    for i in value:\n",
    "      transformer.track_loop(r_node,i)\n",
    "      if var not in loop_temp_list.keys():\n",
    "        loop_temp_list[var] = [transformer.target_loop]\n",
    "      elif transformer.target_loop not in loop_temp_list[var]:\n",
    "        loop_temp_list[var].append(transformer.target_loop)\n",
    "  loop_list[key] = loop_temp_list \n",
    "loop_list"
   ]
  },
  {
   "cell_type": "code",
   "execution_count": 781,
   "metadata": {},
   "outputs": [
    {
     "data": {
      "text/plain": [
       "{'make_index': {'index': [<_ast.FunctionDef at 0x169c84a30>],\n",
       "  'sentence': [<_ast.FunctionDef at 0x169c84a30>],\n",
       "  'filenames': [<_ast.FunctionDef at 0x169c84a30>],\n",
       "  'fh': [<_ast.FunctionDef at 0x169c84a30>],\n",
       "  'names': [<_ast.FunctionDef at 0x169c84a30>]},\n",
       " 'search_words': {'test_var': [<_ast.FunctionDef at 0x16958e3d0>],\n",
       "  'index': [<_ast.FunctionDef at 0x16958e3d0>],\n",
       "  'test_var1': [<_ast.FunctionDef at 0x16958e3d0>]}}"
      ]
     },
     "execution_count": 781,
     "metadata": {},
     "output_type": "execute_result"
    }
   ],
   "source": [
    "def_list = {}      #\n",
    "for key in name_line.keys():\n",
    "  def_temp_list = {}\n",
    "  for var, value in name_line[key].items():\n",
    "    for i in value:\n",
    "      transformer.track_def(r_node,i)\n",
    "      if var not in def_temp_list.keys():\n",
    "        def_temp_list[var] = [transformer.target_def]\n",
    "      elif transformer.target_def not in def_temp_list[var]:\n",
    "        def_temp_list[var].append(transformer.target_def)\n",
    "  def_list[key] = def_temp_list\n",
    "def_list"
   ]
  },
  {
   "cell_type": "code",
   "execution_count": 782,
   "metadata": {},
   "outputs": [],
   "source": [
    "func_list = list(transformer.var_in_func.keys())\n",
    "var_list = []\n",
    "for i,v in enumerate(transformer.var_in_func):\n",
    "  for i in transformer.var_in_func[v]:\n",
    "    var_list.append(i)\n",
    "var_to_id, id_to_var = n2v.name_corpus(var_list, var_to_id, id_to_var)\n",
    "func_to_id, id_to_func = n2v.name_corpus(func_list, func_to_id, id_to_func)"
   ]
  },
  {
   "cell_type": "code",
   "execution_count": 783,
   "metadata": {},
   "outputs": [],
   "source": [
    "graphs = []\n",
    "graph = nx.DiGraph()\n",
    "str_to_node = {}\n",
    "for var_node in node_list[func][test_var]:\n",
    "  root = len(str_to_node)\n",
    "  n2v.create_graph(var_node, node_to_id, graph, str_to_node, root)\n",
    "  for node in graph.nodes():\n",
    "    graph.nodes[node]['feature'] = str_to_node[node]\n",
    "  root += 1  \n",
    "graphs.append(graph) "
   ]
  },
  {
   "cell_type": "code",
   "execution_count": 784,
   "metadata": {},
   "outputs": [],
   "source": [
    "graphs_loop = []\n",
    "graph = nx.DiGraph()\n",
    "str_to_node = {}\n",
    "for var_node in loop_list[func][test_var]:\n",
    "  if var_node == None:\n",
    "    continue\n",
    "  root = len(str_to_node)\n",
    "  n2v.create_graph(var_node, node_to_id, graph, str_to_node, root)\n",
    "  for node in graph.nodes():\n",
    "    graph.nodes[node]['feature'] = str_to_node[node]\n",
    "  root += 1  \n",
    "graphs_loop.append(graph) "
   ]
  },
  {
   "cell_type": "code",
   "execution_count": 785,
   "metadata": {},
   "outputs": [],
   "source": [
    "graphs_def = []\n",
    "graph = nx.DiGraph()\n",
    "str_to_node = {}\n",
    "for var_node in def_list[func][test_var]:\n",
    "  root = len(str_to_node)\n",
    "  n2v.create_graph(var_node, node_to_id, graph, str_to_node, root)\n",
    "  for node in graph.nodes():\n",
    "    graph.nodes[node]['feature'] = str_to_node[node]\n",
    "  root += 1  \n",
    "graphs_def.append(graph) "
   ]
  },
  {
   "attachments": {},
   "cell_type": "markdown",
   "metadata": {},
   "source": [
    "グラフの形を展示する"
   ]
  },
  {
   "cell_type": "code",
   "execution_count": 786,
   "metadata": {},
   "outputs": [
    {
     "data": {
      "image/png": "[encoded data removed]",
      "text/plain": [
       "<Figure size 432x288 with 1 Axes>"
      ]
     },
     "metadata": {},
     "output_type": "display_data"
    }
   ],
   "source": [
    "import matplotlib.pyplot as plt\n",
    "\n",
    "pos = nx.nx_pydot.pydot_layout(graphs[0])\n",
    "nx.write_gpickle(graphs[0],'graphset/test.gpickle')\n",
    "node_labels = nx.get_node_attributes(graphs[0], 'feature')\n",
    "nx.draw_networkx(graphs[0],pos=pos, arrows= True, with_labels = True, font_size=8, labels = node_labels)\n",
    "plt.show()"
   ]
  },
  {
   "attachments": {},
   "cell_type": "markdown",
   "metadata": {},
   "source": [
    "ASTをモデルに入力する"
   ]
  },
  {
   "cell_type": "code",
   "execution_count": 787,
   "metadata": {},
   "outputs": [],
   "source": [
    "model = Graph2Vec(attributed= True)\n"
   ]
  },
  {
   "cell_type": "code",
   "execution_count": 788,
   "metadata": {},
   "outputs": [],
   "source": [
    "from MyWeisfeilerLehaman import WeisfeilerLehmanHashing\n",
    "from gensim.models.doc2vec import TaggedDocument\n",
    "import random\n",
    "import numpy as np\n",
    "\n",
    "documents = [\n",
    "  WeisfeilerLehmanHashing(\n",
    "      graph, 2, True, False)\n",
    "  for graph in graphs\n",
    "]\n",
    "\n",
    "\n",
    "documents_loop = [\n",
    "  WeisfeilerLehmanHashing(\n",
    "      graph, 2, True, False)\n",
    "  for graph in graphs_loop\n",
    "]\n",
    "\n",
    "\n",
    "documents_def = [\n",
    "  WeisfeilerLehmanHashing(\n",
    "      graph, 2, True, False)\n",
    "  for graph in graphs_def\n",
    "]\n"
   ]
  },
  {
   "cell_type": "code",
   "execution_count": 790,
   "metadata": {},
   "outputs": [],
   "source": [
    "documents = [\n",
    "  doc.get_graph_features() for i, doc in enumerate(documents)\n",
    "]\n",
    "\n",
    "documents_loop = [\n",
    "  doc.get_graph_features() for i, doc in enumerate(documents_loop)\n",
    "]\n",
    "\n",
    "documents_def = [\n",
    "  doc.get_graph_features() for i, doc in enumerate(documents_def)\n",
    "]"
   ]
  },
  {
   "cell_type": "code",
   "execution_count": 791,
   "metadata": {},
   "outputs": [],
   "source": [
    "documents[0].append('for')\n",
    "for j in range(len(documents_loop[0])):\n",
    "  documents[0].append(documents_loop[0][j])\n",
    "#documents[0].append(documents_def[0])"
   ]
  },
  {
   "cell_type": "code",
   "execution_count": 794,
   "metadata": {},
   "outputs": [],
   "source": [
    "test = model.infer_vector(documents[0],pkg_path=\"/Users/wintor7/Research/model/new_model.model\")"
   ]
  },
  {
   "attachments": {},
   "cell_type": "markdown",
   "metadata": {},
   "source": [
    "G2Vにより提案結果"
   ]
  },
  {
   "cell_type": "code",
   "execution_count": 795,
   "metadata": {},
   "outputs": [
    {
     "data": {
      "text/plain": [
       "[('9221', \"['search_words', 'keywords_for_search']\", 0.9782716035842896),\n",
       " ('9443', \"['search_words', 'keywords_for_search']\", 0.9750876426696777),\n",
       " ('9904', \"['search_words', 'keywords_for_search']\", 0.973802924156189),\n",
       " ('9701', \"['search_words', 'keywords_for_search']\", 0.9715607166290283),\n",
       " ('9236', \"['search_words', 'names']\", 0.9690793752670288),\n",
       " ('9532', \"['search_words', 'keywords_for_search']\", 0.9684762358665466),\n",
       " ('8989', \"['search_words', 'names']\", 0.9680792689323425),\n",
       " ('9070', \"['search_words', 'names']\", 0.968051016330719),\n",
       " ('9040', \"['search_words', 'names']\", 0.9675125479698181),\n",
       " ('9001', \"['search_words', 'keywords_for_search']\", 0.9669075012207031),\n",
       " ('9523', \"['search_words', 'names']\", 0.9658015966415405),\n",
       " ('9334', \"['search_words', 'names']\", 0.9620233774185181),\n",
       " ('9078', \"['search_words', 'words']\", 0.7635605931282043),\n",
       " ('9588', \"['search_words', 'word_list']\", 0.7622934579849243),\n",
       " ('9612', \"['search_words', 'keywords_for_search']\", 0.7618195414543152),\n",
       " ('9892', \"['search_words', 'words']\", 0.7598685622215271),\n",
       " ('9614', \"['search_words', 'words']\", 0.7466261982917786),\n",
       " ('9561', \"['search_words', 'search']\", 0.7415737509727478),\n",
       " ('9030', \"['search_words', 'search']\", 0.7404917478561401),\n",
       " ('9267', \"['search_words', 'result']\", 0.7367573976516724)]"
      ]
     },
     "execution_count": 795,
     "metadata": {},
     "output_type": "execute_result"
    }
   ],
   "source": [
    "sim = model.most_similar(test, topn=20, clip_start=8980,pkg_path=\"/Users/wintor7/Research/model/new_model.model\")\n",
    "\n",
    "sim"
   ]
  },
  {
   "cell_type": "code",
   "execution_count": 801,
   "metadata": {},
   "outputs": [],
   "source": [
    "test_list, test_count = sim_combine(sim)\n",
    "result_list, result_count = sim_combine(sim)"
   ]
  },
  {
   "cell_type": "code",
   "execution_count": 802,
   "metadata": {},
   "outputs": [
    {
     "data": {
      "text/plain": [
       "{'search_words': {'keywords_for_search': 0.9422751665115356,\n",
       "  'names': 0.9667578637599945,\n",
       "  'words': 0.7200226709246635,\n",
       "  'word_list': 0.7093089818954468,\n",
       "  'search': 0.7081510312855244,\n",
       "  'result': 0.700105521414015,\n",
       "  'keywords': 0.6994399875402451,\n",
       "  'search_word': 0.692883163690567,\n",
       "  'count': 0.7021528035402298,\n",
       "  'index': 0.686926907963223,\n",
       "  'for_file': 0.6976155894143241,\n",
       "  'filename': 0.6812416315078735,\n",
       "  'filenames': 0.6862005194028219,\n",
       "  'search_list': 0.6856781244277954,\n",
       "  'word': 0.6803025901317596,\n",
       "  'file_list': 0.6775985062122345,\n",
       "  'x': 0.6753873527050018,\n",
       "  'file': 0.6732934713363647},\n",
       " 'make_index': {'file1': 0.6976555287837982}}"
      ]
     },
     "execution_count": 802,
     "metadata": {},
     "output_type": "execute_result"
    }
   ],
   "source": [
    "result_list"
   ]
  },
  {
   "cell_type": "code",
   "execution_count": 803,
   "metadata": {},
   "outputs": [
    {
     "data": {
      "text/plain": [
       "{'search_words': {'keywords_for_search': 7,\n",
       "  'names': 6,\n",
       "  'words': 8,\n",
       "  'word_list': 7,\n",
       "  'search': 16,\n",
       "  'result': 9,\n",
       "  'keywords': 4,\n",
       "  'search_word': 2,\n",
       "  'count': 8,\n",
       "  'index': 9,\n",
       "  'for_file': 7,\n",
       "  'filename': 4,\n",
       "  'filenames': 3,\n",
       "  'search_list': 1,\n",
       "  'word': 2,\n",
       "  'file_list': 2,\n",
       "  'x': 2,\n",
       "  'file': 1},\n",
       " 'make_index': {'file1': 2}}"
      ]
     },
     "execution_count": 803,
     "metadata": {},
     "output_type": "execute_result"
    }
   ],
   "source": [
    "result_count"
   ]
  },
  {
   "attachments": {},
   "cell_type": "markdown",
   "metadata": {},
   "source": [
    "課題文とのマッチング"
   ]
  },
  {
   "cell_type": "code",
   "execution_count": 805,
   "metadata": {},
   "outputs": [],
   "source": [
    "import get_alternateName as ga"
   ]
  },
  {
   "attachments": {},
   "cell_type": "markdown",
   "metadata": {},
   "source": [
    "マッチングにより提案結果"
   ]
  },
  {
   "cell_type": "code",
   "execution_count": 806,
   "metadata": {},
   "outputs": [
    {
     "data": {
      "text/plain": [
       "['element', 'minified', 'parse_equals', 'toto', 'zeroTrimmed']"
      ]
     },
     "execution_count": 806,
     "metadata": {},
     "output_type": "execute_result"
    }
   ],
   "source": [
    "all_list = ga.get_altName(result_list[func])\n",
    "all_list"
   ]
  },
  {
   "cell_type": "code",
   "execution_count": 807,
   "metadata": {},
   "outputs": [
    {
     "data": {
      "text/plain": [
       "5"
      ]
     },
     "execution_count": 807,
     "metadata": {},
     "output_type": "execute_result"
    }
   ],
   "source": [
    "len(all_list)"
   ]
  },
  {
   "cell_type": "code",
   "execution_count": null,
   "metadata": {},
   "outputs": [],
   "source": []
  }
 ],
 "metadata": {
  "interpreter": {
   "hash": "6d61d1a6ce7c2368d95644e80c49b86bd9c88a962e5c89c961b90ebaea98c1f7"
  },
  "kernelspec": {
   "display_name": "Python 3.8.11 ('base')",
   "language": "python",
   "name": "python3"
  },
  "language_info": {
   "codemirror_mode": {
    "name": "ipython",
    "version": 3
   },
   "file_extension": ".py",
   "mimetype": "text/x-python",
   "name": "python",
   "nbconvert_exporter": "python",
   "pygments_lexer": "ipython3",
   "version": "3.8.11"
  },
  "orig_nbformat": 4
 },
 "nbformat": 4,
 "nbformat_minor": 2
}
