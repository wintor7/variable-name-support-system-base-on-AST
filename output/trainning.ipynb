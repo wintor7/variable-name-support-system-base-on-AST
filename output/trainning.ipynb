{
 "cells": [
  {
   "attachments": {},
   "cell_type": "markdown",
   "metadata": {},
   "source": [
    "# データの準備及びDoc2Vecモデルの訓練"
   ]
  },
  {
   "attachments": {},
   "cell_type": "markdown",
   "metadata": {},
   "source": [
    "ライブラリーと変数の宣言"
   ]
  },
  {
   "cell_type": "code",
   "execution_count": 1,
   "metadata": {},
   "outputs": [],
   "source": [
    "from ast_draw import CodeTransformer, counter\n",
    "import glob\n",
    "import node_to_vec as n2v\n",
    "import ast\n",
    "\n",
    "import networkx as nx\n",
    "import csv\n",
    "import os"
   ]
  },
  {
   "cell_type": "code",
   "execution_count": 2,
   "metadata": {},
   "outputs": [],
   "source": [
    "pyfile = glob.glob('/Users/wintor7/Research/train_data_file/**/*.py', recursive=True)\n",
    "var, for_var, func_var, func_params, func_return = {}, {}, {}, {}, {}\n",
    "dict_func, var_counter = {},{}\n",
    "node_to_id = {}\n",
    "id_to_node = {}\n",
    "node_to_id, id_to_node = n2v.create_node_lib()      #create node corpus\n",
    "var_to_id, func_to_id = {},{}\n",
    "id_to_var, id_to_func = {},{}\n",
    "graphs = []\n"
   ]
  },
  {
   "cell_type": "code",
   "execution_count": 8,
   "metadata": {},
   "outputs": [
    {
     "data": {
      "text/plain": [
       "4935"
      ]
     },
     "execution_count": 8,
     "metadata": {},
     "output_type": "execute_result"
    }
   ],
   "source": [
    "import random\n",
    "\n",
    "pyfile = random.sample(pyfile, int(len(pyfile)/10))\n",
    "len(pyfile)"
   ]
  },
  {
   "cell_type": "code",
   "execution_count": 3,
   "metadata": {},
   "outputs": [],
   "source": [
    "pyfile = glob.glob('/Users/wintor7/report7/report7_*/**/*.py')"
   ]
  },
  {
   "cell_type": "code",
   "execution_count": 4,
   "metadata": {},
   "outputs": [
    {
     "data": {
      "text/plain": [
       "224"
      ]
     },
     "execution_count": 4,
     "metadata": {},
     "output_type": "execute_result"
    }
   ],
   "source": [
    "len(pyfile)"
   ]
  },
  {
   "attachments": {},
   "cell_type": "markdown",
   "metadata": {},
   "source": [
    "ASTの抽出"
   ]
  },
  {
   "cell_type": "code",
   "execution_count": 6,
   "metadata": {},
   "outputs": [
    {
     "name": "stdout",
     "output_type": "stream",
     "text": [
      "/Users/wintor7/report7/report7_2021/e215735/report7-2.py\n",
      "/Users/wintor7/report7/report7_2021/e215735/report7.py\n",
      "/Users/wintor7/report7/report7_2021/e215732/report7.py\n",
      "/Users/wintor7/report7/report7_2021/e215759/report7.py\n",
      "/Users/wintor7/report7/report7_2021/e215750/report7.py\n",
      "/Users/wintor7/report7/report7_2021/e215733/report7.py\n",
      "/Users/wintor7/report7/report7_2021/e215705/report7.py\n",
      "/Users/wintor7/report7/report7_2021/e215751/report7.py\n",
      "/Users/wintor7/report7/report7_2021/e215756/report7.py\n",
      "/Users/wintor7/report7/report7_2021/e215760/report7.py\n",
      "/Users/wintor7/report7/report7_2021/e215740D/report7.2.py\n",
      "/Users/wintor7/report7/report7_2021/e205237/report7.py\n",
      "/Users/wintor7/report7/report7_2021/e205236/python_7.py\n",
      "/Users/wintor7/report7/report7_2021/e215745/python_7.py\n",
      "/Users/wintor7/report7/report7_2021/e205711/report7.py\n",
      "/Users/wintor7/report7/report7_2021/e205515/report7.py\n",
      "/Users/wintor7/report7/report7_2021/e215718/report7.py\n",
      "/Users/wintor7/report7/report7_2021/e215718/report.py\n",
      "/Users/wintor7/report7/report7_2021/e215727/report7.py\n",
      "/Users/wintor7/report7/report7_2021/e215720/report7-1.py\n",
      "/Users/wintor7/report7/report7_2021/e215720/report7.py\n",
      "/Users/wintor7/report7/report7_2021/e215729/report7.py\n",
      "/Users/wintor7/report7/report7_2021/e215711/report7.py\n",
      "/Users/wintor7/report7/report7_2021/e215743/report7.py\n",
      "/Users/wintor7/report7/report7_2021/e215717/report7.py\n",
      "/Users/wintor7/report7/report7_2021/e215719/report7.py\n",
      "/Users/wintor7/report7/report7_2021/e215726/report7-argparse.py\n",
      "/Users/wintor7/report7/report7_2021/e215726/report7.py\n",
      "/Users/wintor7/report7/report7_2021/e215726/report7-option.py\n",
      "/Users/wintor7/report7/report7_2021/e215753/import report7.py\n",
      "/Users/wintor7/report7/report7_2021/e215753/report7.py\n",
      "/Users/wintor7/report7/report7_2021/e215731/report7.py\n",
      "/Users/wintor7/report7/report7_2021/e215736/report7.py\n",
      "/Users/wintor7/report7/report7_2021/e215709/report7.py\n",
      "/Users/wintor7/report7/report7_2021/e215755/report7.py\n",
      "/Users/wintor7/report7/report7_2021/e215752/report7.py\n",
      "/Users/wintor7/report7/report7_2021/e215737/searching.py\n",
      "/Users/wintor7/report7/report7_2021/e215737/report7.py\n",
      "/Users/wintor7/report7/report7_2021/e215708/　search_file.py\n",
      "/Users/wintor7/report7/report7_2021/e215708/report7.py\n",
      "/Users/wintor7/report7/report7_2021/e215730/option.py\n",
      "/Users/wintor7/report7/report7_2021/e215730/report7.py\n",
      "/Users/wintor7/report7/report7_2021/e205217/report7.py\n",
      "/Users/wintor7/report7/report7_2021/e215723/report7.py\n",
      "/Users/wintor7/report7/report7_2021/e215724/serch_engine.py\n",
      "/Users/wintor7/report7/report7_2021/e215724/report7.py\n",
      "/Users/wintor7/report7/report7_2021/e215712/report7.py\n",
      "/Users/wintor7/report7/report7_2021/e215715/serch_engine.py\n",
      "/Users/wintor7/report7/report7_2021/e215715/report7.py\n",
      "/Users/wintor7/report7/report7_2021/e215746/report7.py\n",
      "/Users/wintor7/report7/report7_2021/e215748/report7.py\n",
      "/Users/wintor7/report7/report7_2021/e215714/r7_option.py\n",
      "/Users/wintor7/report7/report7_2021/e215714/report7.py\n",
      "/Users/wintor7/report7/report7_2021/e215713/report7.py\n",
      "/Users/wintor7/report7/report7_2021/e215725/search_engine.py\n",
      "/Users/wintor7/report7/report7_2021/e215725/report7.py\n",
      "/Users/wintor7/report7/report7_2021/e215722/report7.py\n",
      "/Users/wintor7/report7/report7_2021/e215749/report7.py\n",
      "/Users/wintor7/report7/report7_2021/e215747/report7.py\n",
      "/Users/wintor7/report7/report7_2019/e195767/report7.py\n",
      "/Users/wintor7/report7/report7_2019/e195758/report7.py\n",
      "/Users/wintor7/report7/report7_2019/e195756/report7 (1).py\n",
      "/Users/wintor7/report7/report7_2019/e195756/report7.py\n",
      "/Users/wintor7/report7/report7_2019/e195751/report7.py\n",
      "/Users/wintor7/report7/report7_2019/e195705/report7.py\n",
      "/Users/wintor7/report7/report7_2019/e175771/report7.py\n",
      "/Users/wintor7/report7/report7_2019/e195734/report7.py\n",
      "/Users/wintor7/report7/report7_2019/e195757/report7.py\n",
      "/Users/wintor7/report7/report7_2019/e195761/report7.py\n",
      "/Users/wintor7/report7/report7_2019/e195766/report7.py\n",
      "/Users/wintor7/report7/report7_2019/e195759/report7.py\n",
      "/Users/wintor7/report7/report7_2019/e195732/report7.py\n",
      "/Users/wintor7/report7/report7_2019/e175770/report7.py\n",
      "/Users/wintor7/report7/report7_2019/e195726/pre_make_index.py\n",
      "/Users/wintor7/report7/report7_2019/e195726/report7.py\n",
      "/Users/wintor7/report7/report7_2019/e195721/report7.py\n",
      "/Users/wintor7/report7/report7_2019/e195717/report7.py\n",
      "/Users/wintor7/report7/report7_2019/e195728/report7.py\n",
      "/Users/wintor7/report7/report7_2019/e195710/report7.py\n",
      "/Users/wintor7/report7/report7_2019/e195744/report7.py\n",
      "/Users/wintor7/report7/report7_2019/e195743/reportx.py\n",
      "/Users/wintor7/report7/report7_2019/e195743/report7_2.py\n",
      "/Users/wintor7/report7/report7_2019/e195711/report7 (1).py\n",
      "/Users/wintor7/report7/report7_2019/e195711/report7.py\n",
      "/Users/wintor7/report7/report7_2019/e195716/report7.py\n",
      "/Users/wintor7/report7/report7_2019/e195729/report7.py\n",
      "/Users/wintor7/report7/report7_2019/e195729/report7_2.py\n",
      "/Users/wintor7/report7/report7_2019/e195720/report7.py\n",
      "/Users/wintor7/report7/report7_2019/e195727/report7.py\n",
      "/Users/wintor7/report7/report7_2019/e195718/report7.py\n",
      "/Users/wintor7/report7/report7_2019/e195745/report7.py\n",
      "/Users/wintor7/report7/report7_2019/e175772/report7.py\n",
      "/Users/wintor7/report7/report7_2019/e195701/report7.1.py\n",
      "/Users/wintor7/report7/report7_2019/e195701/report7.2.py\n",
      "/Users/wintor7/report7/report7_2019/e195701/report7.py\n",
      "/Users/wintor7/report7/report7_2019/e195706/report7.py\n",
      "/Users/wintor7/report7/report7_2019/e195708/report7.py\n",
      "/Users/wintor7/report7/report7_2019/e195737/report7.py\n",
      "/Users/wintor7/report7/report7_2019/e195763/report7 (1).py\n",
      "/Users/wintor7/report7/report7_2019/e195763/❌report7.py\n",
      "/Users/wintor7/report7/report7_2019/e195764/report7.py\n",
      "/Users/wintor7/report7/report7_2019/e195752/report7 (1).py\n",
      "/Users/wintor7/report7/report7_2019/e195752/report7.py\n",
      "/Users/wintor7/report7/report7_2019/e195709/report7_1.py\n",
      "/Users/wintor7/report7/report7_2019/e195709/report7.py\n",
      "/Users/wintor7/report7/report7_2019/e195731/report7.py\n",
      "/Users/wintor7/report7/report7_2019/e195738/report7.py\n",
      "/Users/wintor7/report7/report7_2019/e175774/report7.py\n",
      "/Users/wintor7/report7/report7_2019/e175773/report7_20190729fix.py\n",
      "/Users/wintor7/report7/report7_2019/e175773/report7.py\n",
      "/Users/wintor7/report7/report7_2019/e195754/report7.py\n",
      "/Users/wintor7/report7/report7_2019/e195753/report7.py\n",
      "/Users/wintor7/report7/report7_2019/e195765/new_report7.py\n",
      "/Users/wintor7/report7/report7_2019/e195765/report7.py\n",
      "/Users/wintor7/report7/report7_2019/e195762/report7 (1).py\n",
      "/Users/wintor7/report7/report7_2019/e195762/report7.py\n",
      "/Users/wintor7/report7/report7_2019/e195740/report7.py\n",
      "/Users/wintor7/report7/report7_2019/e195747/report7.py\n",
      "/Users/wintor7/report7/report7_2019/e195749/report7_hj (1).py\n",
      "/Users/wintor7/report7/report7_2019/e195749/report7_hj.py\n",
      "/Users/wintor7/report7/report7_2019/e195722/report7.py\n",
      "/Users/wintor7/report7/report7_2019/e195713/report7.py\n",
      "/Users/wintor7/report7/report7_2019/e165734/report7 (1).py\n",
      "/Users/wintor7/report7/report7_2019/e165734/report7.py\n",
      "/Users/wintor7/report7/report7_2019/e195714/report7.py\n",
      "/Users/wintor7/report7/report7_2019/e195748/report7 (1).py\n",
      "/Users/wintor7/report7/report7_2019/e195748/report7.py\n",
      "/Users/wintor7/report7/report7_2019/e195746/report7.py\n",
      "/Users/wintor7/report7/report7_2019/e195712/report7.py\n",
      "/Users/wintor7/report7/report7_2019/e195723/report7_ex.py\n",
      "/Users/wintor7/report7/report7_2018/e185702/report7.py\n",
      "/Users/wintor7/report7/report7_2018/e185751/report7.py\n",
      "/Users/wintor7/report7/report7_2018/e185751/report7_2.py\n",
      "/Users/wintor7/report7/report7_2018/e185756/report7.py\n",
      "/Users/wintor7/report7/report7_2018/e185760/report7.py\n",
      "/Users/wintor7/report7/report7_2018/e185758/report7.py\n",
      "/Users/wintor7/report7/report7_2018/e185704/report7.py\n",
      "/Users/wintor7/report7/report7_2018/e185703/report7.py\n",
      "/Users/wintor7/report7/report7_2018/e185735/report7.py\n",
      "/Users/wintor7/report7/report7_2018/e185761/report7.py\n",
      "/Users/wintor7/report7/report7_2018/e185757/report7.py\n",
      "/Users/wintor7/report7/report7_2018/e185750/report7.py\n",
      "/Users/wintor7/report7/report7_2018/e185710/report7.py\n",
      "/Users/wintor7/report7/report7_2018/e185728/report7.py\n",
      "/Users/wintor7/report7/report7_2018/e185719/report7.py\n",
      "/Users/wintor7/report7/report7_2018/e185745/report7.py\n",
      "/Users/wintor7/report7/report7_2018/e185742/report7.py\n",
      "/Users/wintor7/report7/report7_2018/e185718/report7.py\n",
      "/Users/wintor7/report7/report7_2018/e185727/report7-5.py\n",
      "/Users/wintor7/report7/report7_2018/e185729/report7.py\n",
      "/Users/wintor7/report7/report7_2018/e185716/report7.py\n",
      "/Users/wintor7/report7/report7_2018/e185711/report7.py\n",
      "/Users/wintor7/report7/report7_2018/e185730/report7.py\n",
      "/Users/wintor7/report7/report7_2018/e185706/report7.py\n",
      "/Users/wintor7/report7/report7_2018/e185739/report7.py\n",
      "/Users/wintor7/report7/report7_2018/e185762/not_summarize_report7.py\n",
      "/Users/wintor7/report7/report7_2018/e185762/report7.py\n",
      "/Users/wintor7/report7/report7_2018/e185762/report7_0807.py\n",
      "/Users/wintor7/report7/report7_2018/e185753/report7.py\n",
      "/Users/wintor7/report7/report7_2018/e185753/report7_listver失敗作.py\n",
      "/Users/wintor7/report7/report7_2018/e185738/report7.py\n",
      "/Users/wintor7/report7/report7_2018/e185731/report7.py\n",
      "/Users/wintor7/report7/report7_2018/e185709/report7.py\n",
      "/Users/wintor7/report7/report7_2018/e185714/report7.py\n",
      "/Users/wintor7/report7/report7_2018/e175734/report7.py\n",
      "/Users/wintor7/report7/report7_2018/e185713/report7.py\n",
      "/Users/wintor7/report7/report7_2018/e185725/report7_4.py\n",
      "/Users/wintor7/report7/report7_2018/e185747/report7.py\n",
      "/Users/wintor7/report7/report7_2018/e185740/report7.py\n",
      "/Users/wintor7/report7/report7_2018/e185724/report7.py\n",
      "/Users/wintor7/report7/report7_2018/e185712/report7.py\n",
      "/Users/wintor7/report7/report7_2018/e185715/report7.py\n",
      "/Users/wintor7/report7/report7_2018/e185741/report7.py\n",
      "/Users/wintor7/report7/report7_2018/e185748/report7.py\n",
      "/Users/wintor7/report7/report7_2020/e205757/report7.py\n",
      "/Users/wintor7/report7/report7_2020/e205759/report7.py\n",
      "/Users/wintor7/report7/report7_2020/e205732/report7.py\n",
      "/Users/wintor7/report7/report7_2020/e205735/report7.py\n",
      "/Users/wintor7/report7/report7_2020/e205704/report7.py\n",
      "/Users/wintor7/report7/report7_2020/e205758/report7.py\n",
      "/Users/wintor7/report7/report7_2020/e205756/report7.py\n",
      "/Users/wintor7/report7/report7_2020/e205751/report7.py\n",
      "/Users/wintor7/report7/report7_2020/e205705/report7.py\n",
      "/Users/wintor7/report7/report7_2020/e205702/report7.py\n",
      "/Users/wintor7/report7/report7_2020/e205734/report7.py\n",
      "/Users/wintor7/report7/report7_2020/e205733/report7.py\n",
      "/Users/wintor7/report7/report7_2020/e205711/report7.py\n",
      "/Users/wintor7/report7/report7_2020/e205716/report7.py\n",
      "/Users/wintor7/report7/report7_2020/e205729/report7.py\n",
      "/Users/wintor7/report7/report7_2020/e205720/report7.py\n",
      "/Users/wintor7/report7/report7_2020/e205727/report7.py\n",
      "/Users/wintor7/report7/report7_2020/e205742/report7.py\n",
      "/Users/wintor7/report7/report7_2020/e205745/report7.py\n",
      "/Users/wintor7/report7/report7_2020/e205726/report7.py\n",
      "/Users/wintor7/report7/report7_2020/e205719/report7.py\n",
      "/Users/wintor7/report7/report7_2020/e205719/execution_report7.py\n",
      "/Users/wintor7/report7/report7_2020/e205721/report7.py\n",
      "/Users/wintor7/report7/report7_2020/e205710/report7.py\n",
      "/Users/wintor7/report7/report7_2020/e205744/report7.py\n",
      "/Users/wintor7/report7/report7_2020/e205743/report7.py\n",
      "/Users/wintor7/report7/report7_2020/e205709/report7.py\n",
      "/Users/wintor7/report7/report7_2020/e205736/再提出report7.py\n",
      "/Users/wintor7/report7/report7_2020/e205736/report7.py\n",
      "/Users/wintor7/report7/report7_2020/e205731/report7.py\n",
      "/Users/wintor7/report7/report7_2020/e205731/report7_2.py\n",
      "/Users/wintor7/report7/report7_2020/e205738/report7.py\n",
      "/Users/wintor7/report7/report7_2020/e205707/report7.py\n",
      "/Users/wintor7/report7/report7_2020/e205753/(再)report7.py\n",
      "/Users/wintor7/report7/report7_2020/e205753/report7.py\n",
      "/Users/wintor7/report7/report7_2020/e205701/report7.1.py\n",
      "/Users/wintor7/report7/report7_2020/e205701/report7.py\n",
      "/Users/wintor7/report7/report7_2020/e205706/report7.py\n",
      "/Users/wintor7/report7/report7_2020/e205737/report7.py\n",
      "/Users/wintor7/report7/report7_2020/e205752/report7.py\n",
      "/Users/wintor7/report7/report7_2020/e205755/report7.py\n",
      "/Users/wintor7/report7/report7_2020/e195715/report7.py\n",
      "/Users/wintor7/report7/report7_2020/e205748/report7.py\n",
      "/Users/wintor7/report7/report7_2020/e205746/report7.py\n",
      "/Users/wintor7/report7/report7_2020/e205723/report7.py\n",
      "/Users/wintor7/report7/report7_2020/e205747/report7.py\n",
      "/Users/wintor7/report7/report7_2020/e205725/report7.py\n",
      "/Users/wintor7/report7/report7_2020/e205713/report7.py\n",
      "/Users/wintor7/report7/report7_2020/e205714/report7_omake.py\n",
      "/Users/wintor7/report7/report7_2020/e205714/report7.py\n"
     ]
    }
   ],
   "source": [
    "for file in pyfile:\n",
    "  try:\n",
    "    with open(file, 'r') as fh:\n",
    "      content = fh.read()\n",
    "\n",
    "      #抽取AST\n",
    "    r_node = ast.parse(content)\n",
    "\n",
    "    transformer = CodeTransformer()\n",
    "    r_node = transformer.visit(r_node)\n",
    "    dict_func = counter(dict_func, transformer.var_in_func)\n",
    "\n",
    "\n",
    "\n",
    "    func_list = list(transformer.var_in_func.keys())\n",
    "    var_list = []\n",
    "    for i,v in enumerate(transformer.var_in_func):\n",
    "      for i in transformer.var_in_func[v]:\n",
    "        var_list.append(i)\n",
    "\n",
    "    name_line = transformer.name_line\n",
    "\n",
    "\n",
    "    temp = {}\n",
    "    for key in dict_func.keys():        #确认是否为常见变量名称\n",
    "      for var in dict_func[key].keys():\n",
    "        if var in name_line[key].keys():\n",
    "          temp[var] = name_line[key][var]\n",
    "        else:\n",
    "          continue\n",
    "\n",
    "    name_line = temp  \n",
    "    node_list = {}\n",
    "    for key in name_line.keys():          #\n",
    "      for i in name_line[key]:\n",
    "        transformer.track_line(r_node, i)\n",
    "        if key not in node_list.keys():\n",
    "          node_list[key] = [transformer.target_var]\n",
    "        elif transformer.target_var not in node_list[key]:\n",
    "          node_list[key].append(transformer.target_var)\n",
    "    print(node_list)\n",
    "    loop_list = {}\n",
    "    for key in name_line.keys():          #\n",
    "      for i in name_line[key]:\n",
    "        transformer.track_loop(r_node,i)\n",
    "        if key not in loop_list.keys():\n",
    "          loop_list[key] = [transformer.target_loop]\n",
    "        elif transformer.target_var not in loop_list[key]:\n",
    "          loop_list[key].append(transformer.target_loop)\n",
    "\n",
    "\n",
    "    def_list = {}\n",
    "    for key in name_line.keys():          #\n",
    "      for i in name_line[key]:\n",
    "        transformer.track_def(r_node,i)\n",
    "        if key not in def_list.keys():\n",
    "          def_list[key] = [transformer.target_def]\n",
    "        elif transformer.target_var not in def_list[key]:\n",
    "          def_list[key].append(transformer.target_def)\n",
    "\n",
    "\n",
    "    node_to_id, id_to_node = n2v.create_node_lib() \n",
    "    var_to_id, id_to_var = n2v.name_corpus(var_list, var_to_id, id_to_var)\n",
    "    func_to_id, id_to_func = n2v.name_corpus(func_list, func_to_id, id_to_func)\n",
    "\n",
    "    var_in_func = transformer.var_in_func\n",
    "    #print('var_in_func: ', var_in_func)\n",
    "    num = 0\n",
    "    for func in var_in_func.keys():\n",
    "      label1 = func\n",
    "      for var in var_in_func[func]:\n",
    "        num += 1\n",
    "        label2 = var\n",
    "        graph = nx.DiGraph(label1 = label1, label2 = label2)\n",
    "        str_to_node = {}\n",
    "        try:\n",
    "          for var_node in node_list[var]:\n",
    "            root = len(str_to_node)\n",
    "            n2v.create_graph(var_node, node_to_id, graph, str_to_node, root)\n",
    "            for node in graph.nodes():\n",
    "              graph.nodes[node]['feature'] = str_to_node[node]\n",
    "            root += 1\n",
    "          nx.write_gpickle(graph,'/Users/wintor7/report7/graph/var/' + str(num) + '.gpickle')  \n",
    "        except KeyError:\n",
    "          continue\n",
    "\n",
    "        graph_loop = nx.DiGraph(label1 = label1, label2 = label2)\n",
    "        str_to_node = {}\n",
    "        try:\n",
    "          for var_node in loop_list[var]:\n",
    "            root = len(str_to_node)\n",
    "            n2v.create_graph(var_node, node_to_id, graph_loop, str_to_node, root)\n",
    "            for node in graph_loop.nodes():\n",
    "              graph_loop.nodes[node]['feature'] = str_to_node[node]\n",
    "            root += 1\n",
    "          nx.write_gpickle(graph_loop,'/Users/wintor7/report7/graph/loop/' + str(num) + '.gpickle')  \n",
    "        except KeyError:\n",
    "          continue\n",
    "\n",
    "\n",
    "        graph_def = nx.DiGraph(label1 = label1, label2 = label2)\n",
    "        str_to_node = {}\n",
    "        try:\n",
    "          for var_node in def_list[var]:\n",
    "            root = len(str_to_node)\n",
    "            n2v.create_graph(var_node, node_to_id, graph_def, str_to_node, root)\n",
    "            for node in graph_def.nodes():\n",
    "              graph_def.nodes[node]['feature'] = str_to_node[node]\n",
    "            root += 1\n",
    "          nx.write_gpickle(graph_def,'/Users/wintor7/report7/graph/def/' + str(num) + '.gpickle')  \n",
    "        except KeyError:\n",
    "          continue\n",
    "  except:\n",
    "    print(file)\n",
    "    continue"
   ]
  },
  {
   "attachments": {},
   "cell_type": "markdown",
   "metadata": {},
   "source": [
    "モデルの宣言"
   ]
  },
  {
   "cell_type": "code",
   "execution_count": 1,
   "metadata": {},
   "outputs": [],
   "source": [
    "from gensim.models.doc2vec import Doc2Vec, TaggedDocument\n",
    "from MyWeisfeilerLehaman import WeisfeilerLehmanHashing\n",
    "from Mygraph2vec import Graph2Vec"
   ]
  },
  {
   "attachments": {},
   "cell_type": "markdown",
   "metadata": {},
   "source": [
    "データの前処理"
   ]
  },
  {
   "cell_type": "code",
   "execution_count": 3,
   "metadata": {},
   "outputs": [],
   "source": [
    "import glob\n",
    "import networkx as nx\n",
    "deffile = glob.glob('/Users/wintor7/Research/defset/*.gpickle', recursive=True)\n",
    "loopfile = glob.glob('/Users/wintor7/Research/loopset/*.gpickle', recursive=True)\n",
    "graphfile = glob.glob('/Users/wintor7/Research/graphset_new/*.gpickle', recursive=True)\n",
    "\n",
    "graphs = []\n",
    "for i in range(int(len(graphfile)/10)):\n",
    "  G = nx.read_gpickle(graphfile[i])\n",
    "  graphs.append(G)\n",
    "loop_graphs = []\n",
    "for i in range(int(len(loopfile)/10)):\n",
    "  G = nx.read_gpickle(loopfile[i])\n",
    "  loop_graphs.append(G)\n",
    "def_graphs = []\n",
    "for i in range(int(len(deffile)/10)):\n",
    "  G = nx.read_gpickle(deffile[i])\n",
    "  def_graphs.append(G)"
   ]
  },
  {
   "cell_type": "code",
   "execution_count": 4,
   "metadata": {},
   "outputs": [],
   "source": [
    "graphfileset = glob.glob(\"/Users/wintor7/report7/graph/var/*.gpickle\")\n",
    "loopfileset = glob.glob(\"/Users/wintor7/report7/graph/loop/*.gpickle\")\n",
    "deffileset = glob.glob(\"/Users/wintor7/report7/graph/def/*.gpickle\")\n"
   ]
  },
  {
   "cell_type": "code",
   "execution_count": 5,
   "metadata": {},
   "outputs": [],
   "source": [
    "for i in range(int(len(graphfileset))):\n",
    "  G = nx.read_gpickle(graphfileset[i])\n",
    "  graphs.append(G)\n",
    "for i in range(int(len(loopfileset))):\n",
    "  G = nx.read_gpickle(loopfileset[i])\n",
    "  loop_graphs.append(G)\n",
    "for i in range(len(deffileset)):\n",
    "  G = nx.read_gpickle(deffileset[i])\n",
    "  def_graphs.append(G)"
   ]
  },
  {
   "cell_type": "code",
   "execution_count": 6,
   "metadata": {},
   "outputs": [
    {
     "data": {
      "text/plain": [
       "9993"
      ]
     },
     "execution_count": 6,
     "metadata": {},
     "output_type": "execute_result"
    }
   ],
   "source": [
    "len(graphs)"
   ]
  },
  {
   "cell_type": "code",
   "execution_count": 7,
   "metadata": {},
   "outputs": [
    {
     "data": {
      "text/plain": [
       "{'label1': 'analyze', 'label2': 'length'}"
      ]
     },
     "execution_count": 7,
     "metadata": {},
     "output_type": "execute_result"
    }
   ],
   "source": [
    "graphs[8981].graph"
   ]
  },
  {
   "attachments": {},
   "cell_type": "markdown",
   "metadata": {},
   "source": [
    "モデルの訓練"
   ]
  },
  {
   "cell_type": "code",
   "execution_count": 8,
   "metadata": {},
   "outputs": [],
   "source": [
    "model = Graph2Vec(attributed= True,dimensions=130, epochs= 25, learning_rate=0.015, mode=2)"
   ]
  },
  {
   "cell_type": "code",
   "execution_count": 9,
   "metadata": {},
   "outputs": [
    {
     "name": "stdout",
     "output_type": "stream",
     "text": [
      "9993\n",
      "{'label1': 'test_reflection', 'label2': 'test_reflect_key_name'}\n",
      "{'label1': 'from_pretrained', 'label2': 'model_card_file'}\n",
      "{'label1': 'revoke_data_sponsorship', 'label2': 'Optional'}\n",
      "{'label1': 'CreateWidgets', 'label2': 'W'}\n",
      "{'label1': 'revoke_claimable_balance_sponsorship', 'label2': 'Optional'}\n",
      "{'label1': 'handler2', 'label2': 's'}\n",
      "{'label1': 'testSetIdAttributeNS', 'label2': 'NS2'}\n",
      "{'label1': 'test_then_values_2', 'label2': 'ListType'}\n",
      "{'label1': 'test_romanize_royin_consistency', 'label2': 'romanize'}\n",
      "{'label1': 'super', 'label2': 'name'}\n",
      "{'label1': 'testSetIdAttributeNode', 'label2': 'NS2'}\n",
      "{'label1': 'rebalance', 'label2': 'right_child'}\n",
      "{'label1': 'close', 'label2': 'h'}\n",
      "{'label1': 'dumpspecs', 'label2': 'os'}\n",
      "{'label1': 'test_badandgoodsurrogatepassexceptions', 'label2': 'n'}\n",
      "9978\n",
      "['13', '13 39 59', '13 39 59 39 None 59 66 76', '59', '59 66 76', '59 66 76 66 75 76 None', '66', '66 75', '66 75 75 None', '75', '75 None', '75 None None', '76', '76 None', '76 None None', '39', '39 None', '39 None None', 'for', '']\n",
      "TaggedDocument(['13', '13 39 59', '13 39 59 39 None 59 66 76', '59', '59 66 76', '59 66 76 66 75 76 None', '66', '66 75', '66 75 75 None', '75', '75 None', '75 None None', '76', '76 None', '76 None None', '39', '39 None', '39 None None', 'for', ''], ['8980'])\n"
     ]
    }
   ],
   "source": [
    "model.fit(graphs, '/Users/wintor7/Research/model/new_model.model',loop_graphs=loop_graphs, def_graphs=def_graphs)"
   ]
  }
 ],
 "metadata": {
  "kernelspec": {
   "display_name": "base",
   "language": "python",
   "name": "python3"
  },
  "language_info": {
   "codemirror_mode": {
    "name": "ipython",
    "version": 3
   },
   "file_extension": ".py",
   "mimetype": "text/x-python",
   "name": "python",
   "nbconvert_exporter": "python",
   "pygments_lexer": "ipython3",
   "version": "3.8.11"
  },
  "orig_nbformat": 4,
  "vscode": {
   "interpreter": {
    "hash": "6d61d1a6ce7c2368d95644e80c49b86bd9c88a962e5c89c961b90ebaea98c1f7"
   }
  }
 },
 "nbformat": 4,
 "nbformat_minor": 2
}
